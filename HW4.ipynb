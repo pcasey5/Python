{
 "cells": [
  {
   "cell_type": "markdown",
   "id": "84800d79",
   "metadata": {},
   "source": [
    "## Homework 4\n",
    "Question 1a)"
   ]
  },
  {
   "cell_type": "markdown",
   "id": "0bc7cff6",
   "metadata": {},
   "source": [
    "logistic function = p(X) = e^(β0 + β1X) / (1 + e^(β0 + β1X))\n",
    "log [p(X) / (1 - p(X))] = log [e^(β0 + β1X) / (1 + e^(β0 + β1X))]\n",
    "log [e^(β0 + β1X)] - log(1 + e^(β0 + β1X))\n",
    "(β0 + β1X) - log(1 + e^(β0 + β1X))\n",
    "log [p(X) / (1 - p(X))] = β0 + β1X"
   ]
  },
  {
   "cell_type": "markdown",
   "id": "3ec47ce1",
   "metadata": {},
   "source": [
    "Question 1b)"
   ]
  },
  {
   "cell_type": "code",
   "execution_count": 1,
   "id": "e8180067",
   "metadata": {},
   "outputs": [
    {
     "name": "stdout",
     "output_type": "stream",
     "text": [
      "The fraction of players with an odds of .37 losing the tournament is 27.01/100.\n"
     ]
    }
   ],
   "source": [
    "# Probability = Odds/(Odds + 1)\n",
    "prob = .37 / (.37 + 1)\n",
    "prob_frac = prob * 100\n",
    "print(f'The fraction of players with an odds of .37 losing the tournament is {prob_frac:.2f}/100.')"
   ]
  },
  {
   "cell_type": "markdown",
   "id": "8d179f6b",
   "metadata": {},
   "source": [
    "Question 1c)"
   ]
  },
  {
   "cell_type": "code",
   "execution_count": 2,
   "id": "c8594d62",
   "metadata": {},
   "outputs": [
    {
     "name": "stdout",
     "output_type": "stream",
     "text": [
      "The odds of an individual losing a tournament with a probability of .16 is 0.19.\n"
     ]
    }
   ],
   "source": [
    "# Odds = Probability / (1-Probability)\n",
    "odds = .16 / (1-.16)\n",
    "print(f'The odds of an individual losing a tournament with a probability of .16 is {odds:.2f}.')"
   ]
  },
  {
   "cell_type": "markdown",
   "id": "459805bf",
   "metadata": {},
   "source": [
    "Question 2-1a)"
   ]
  },
  {
   "cell_type": "code",
   "execution_count": 30,
   "id": "23e9dbfb",
   "metadata": {},
   "outputs": [
    {
     "data": {
      "text/html": [
       "<style>.container { width:95% !important; }</style>"
      ],
      "text/plain": [
       "<IPython.core.display.HTML object>"
      ]
     },
     "metadata": {},
     "output_type": "display_data"
    }
   ],
   "source": [
    "# import necessary libraries\n",
    "import pandas as pd\n",
    "import numpy as np\n",
    "import matplotlib.pyplot as plt\n",
    "import seaborn as sns\n",
    "\n",
    "from sklearn.preprocessing import StandardScaler\n",
    "from sklearn.model_selection import train_test_split, cross_val_score\n",
    "\n",
    "from sklearn.linear_model import LogisticRegression\n",
    "from sklearn.linear_model import LogisticRegressionCV\n",
    "\n",
    "from sklearn.metrics import confusion_matrix, classification_report, accuracy_score\n",
    "from sklearn.model_selection import RandomizedSearchCV\n",
    "from sklearn.metrics import accuracy_score, precision_score, recall_score\n",
    "from sklearn.metrics import roc_curve, roc_auc_score\n",
    "%matplotlib inline\n",
    "plt.style.use('seaborn-white')\n",
    "\n",
    "# Trick to widen the screen\n",
    "from IPython.display import display, HTML\n",
    "\n",
    "#Widens the code landscape \n",
    "display(HTML(\"<style>.container { width:95% !important; }</style>\"))\n",
    "\n",
    "pd.set_option('display.max_columns',500) #allows for up to 500 columns to be displayed when viewing a dataframe\n",
    "\n",
    "import warnings\n",
    "warnings.filterwarnings(\"ignore\") \n"
   ]
  },
  {
   "cell_type": "code",
   "execution_count": 4,
   "id": "5b70ae60",
   "metadata": {},
   "outputs": [
    {
     "data": {
      "text/html": [
       "<div>\n",
       "<style scoped>\n",
       "    .dataframe tbody tr th:only-of-type {\n",
       "        vertical-align: middle;\n",
       "    }\n",
       "\n",
       "    .dataframe tbody tr th {\n",
       "        vertical-align: top;\n",
       "    }\n",
       "\n",
       "    .dataframe thead th {\n",
       "        text-align: right;\n",
       "    }\n",
       "</style>\n",
       "<table border=\"1\" class=\"dataframe\">\n",
       "  <thead>\n",
       "    <tr style=\"text-align: right;\">\n",
       "      <th></th>\n",
       "      <th>Unnamed: 0</th>\n",
       "      <th>CompPrice</th>\n",
       "      <th>Income</th>\n",
       "      <th>Advertising</th>\n",
       "      <th>Population</th>\n",
       "      <th>Price</th>\n",
       "      <th>ShelveLoc</th>\n",
       "      <th>Age</th>\n",
       "      <th>Education</th>\n",
       "      <th>Urban</th>\n",
       "      <th>US</th>\n",
       "      <th>SalesDir</th>\n",
       "    </tr>\n",
       "  </thead>\n",
       "  <tbody>\n",
       "    <tr>\n",
       "      <th>0</th>\n",
       "      <td>0</td>\n",
       "      <td>138</td>\n",
       "      <td>73</td>\n",
       "      <td>11</td>\n",
       "      <td>276</td>\n",
       "      <td>120</td>\n",
       "      <td>Bad</td>\n",
       "      <td>42</td>\n",
       "      <td>17</td>\n",
       "      <td>Yes</td>\n",
       "      <td>Yes</td>\n",
       "      <td>1</td>\n",
       "    </tr>\n",
       "    <tr>\n",
       "      <th>1</th>\n",
       "      <td>1</td>\n",
       "      <td>111</td>\n",
       "      <td>48</td>\n",
       "      <td>16</td>\n",
       "      <td>260</td>\n",
       "      <td>83</td>\n",
       "      <td>Good</td>\n",
       "      <td>65</td>\n",
       "      <td>10</td>\n",
       "      <td>Yes</td>\n",
       "      <td>Yes</td>\n",
       "      <td>1</td>\n",
       "    </tr>\n",
       "    <tr>\n",
       "      <th>2</th>\n",
       "      <td>2</td>\n",
       "      <td>113</td>\n",
       "      <td>35</td>\n",
       "      <td>10</td>\n",
       "      <td>269</td>\n",
       "      <td>80</td>\n",
       "      <td>Medium</td>\n",
       "      <td>59</td>\n",
       "      <td>12</td>\n",
       "      <td>Yes</td>\n",
       "      <td>Yes</td>\n",
       "      <td>1</td>\n",
       "    </tr>\n",
       "    <tr>\n",
       "      <th>3</th>\n",
       "      <td>3</td>\n",
       "      <td>117</td>\n",
       "      <td>100</td>\n",
       "      <td>4</td>\n",
       "      <td>466</td>\n",
       "      <td>97</td>\n",
       "      <td>Medium</td>\n",
       "      <td>55</td>\n",
       "      <td>14</td>\n",
       "      <td>Yes</td>\n",
       "      <td>Yes</td>\n",
       "      <td>0</td>\n",
       "    </tr>\n",
       "    <tr>\n",
       "      <th>4</th>\n",
       "      <td>4</td>\n",
       "      <td>141</td>\n",
       "      <td>64</td>\n",
       "      <td>3</td>\n",
       "      <td>340</td>\n",
       "      <td>128</td>\n",
       "      <td>Bad</td>\n",
       "      <td>38</td>\n",
       "      <td>13</td>\n",
       "      <td>Yes</td>\n",
       "      <td>No</td>\n",
       "      <td>0</td>\n",
       "    </tr>\n",
       "  </tbody>\n",
       "</table>\n",
       "</div>"
      ],
      "text/plain": [
       "   Unnamed: 0  CompPrice  Income  Advertising  Population  Price ShelveLoc  \\\n",
       "0           0        138      73           11         276    120       Bad   \n",
       "1           1        111      48           16         260     83      Good   \n",
       "2           2        113      35           10         269     80    Medium   \n",
       "3           3        117     100            4         466     97    Medium   \n",
       "4           4        141      64            3         340    128       Bad   \n",
       "\n",
       "   Age  Education Urban   US  SalesDir  \n",
       "0   42         17   Yes  Yes         1  \n",
       "1   65         10   Yes  Yes         1  \n",
       "2   59         12   Yes  Yes         1  \n",
       "3   55         14   Yes  Yes         0  \n",
       "4   38         13   Yes   No         0  "
      ]
     },
     "execution_count": 4,
     "metadata": {},
     "output_type": "execute_result"
    }
   ],
   "source": [
    "# read in the file and print the first five rows\n",
    "df_cs = pd.read_csv(r\"C:\\Users\\Katabatic\\Desktop\\DATA 3550\\Carseats.csv\")\n",
    "df_cs.head()"
   ]
  },
  {
   "cell_type": "code",
   "execution_count": 5,
   "id": "71373961",
   "metadata": {},
   "outputs": [
    {
     "name": "stdout",
     "output_type": "stream",
     "text": [
      "<class 'pandas.core.frame.DataFrame'>\n",
      "RangeIndex: 400 entries, 0 to 399\n",
      "Data columns (total 12 columns):\n",
      " #   Column       Non-Null Count  Dtype \n",
      "---  ------       --------------  ----- \n",
      " 0   Unnamed: 0   400 non-null    int64 \n",
      " 1   CompPrice    400 non-null    int64 \n",
      " 2   Income       400 non-null    int64 \n",
      " 3   Advertising  400 non-null    int64 \n",
      " 4   Population   400 non-null    int64 \n",
      " 5   Price        400 non-null    int64 \n",
      " 6   ShelveLoc    400 non-null    object\n",
      " 7   Age          400 non-null    int64 \n",
      " 8   Education    400 non-null    int64 \n",
      " 9   Urban        400 non-null    object\n",
      " 10  US           400 non-null    object\n",
      " 11  SalesDir     400 non-null    int64 \n",
      "dtypes: int64(9), object(3)\n",
      "memory usage: 37.6+ KB\n"
     ]
    }
   ],
   "source": [
    "# print the info\n",
    "df_cs.info()"
   ]
  },
  {
   "cell_type": "code",
   "execution_count": 6,
   "id": "86386667",
   "metadata": {},
   "outputs": [
    {
     "name": "stdout",
     "output_type": "stream",
     "text": [
      "<class 'pandas.core.frame.DataFrame'>\n",
      "RangeIndex: 400 entries, 0 to 399\n",
      "Data columns (total 11 columns):\n",
      " #   Column       Non-Null Count  Dtype \n",
      "---  ------       --------------  ----- \n",
      " 0   CompPrice    400 non-null    int64 \n",
      " 1   Income       400 non-null    int64 \n",
      " 2   Advertising  400 non-null    int64 \n",
      " 3   Population   400 non-null    int64 \n",
      " 4   Price        400 non-null    int64 \n",
      " 5   ShelveLoc    400 non-null    object\n",
      " 6   Age          400 non-null    int64 \n",
      " 7   Education    400 non-null    int64 \n",
      " 8   Urban        400 non-null    object\n",
      " 9   US           400 non-null    object\n",
      " 10  SalesDir     400 non-null    int64 \n",
      "dtypes: int64(8), object(3)\n",
      "memory usage: 34.5+ KB\n"
     ]
    }
   ],
   "source": [
    "# we're not missing any values in any of the columns, but we need to convert ShelveLoc, Urban, and US to dummy variables. Unnamed appears to be another index column, so we need to remove it. \n",
    "df_cs = df_cs.drop(['Unnamed: 0'], axis = 1)\n",
    "df_cs.info()"
   ]
  },
  {
   "cell_type": "code",
   "execution_count": 7,
   "id": "4086bd92",
   "metadata": {},
   "outputs": [
    {
     "data": {
      "text/html": [
       "<div>\n",
       "<style scoped>\n",
       "    .dataframe tbody tr th:only-of-type {\n",
       "        vertical-align: middle;\n",
       "    }\n",
       "\n",
       "    .dataframe tbody tr th {\n",
       "        vertical-align: top;\n",
       "    }\n",
       "\n",
       "    .dataframe thead th {\n",
       "        text-align: right;\n",
       "    }\n",
       "</style>\n",
       "<table border=\"1\" class=\"dataframe\">\n",
       "  <thead>\n",
       "    <tr style=\"text-align: right;\">\n",
       "      <th></th>\n",
       "      <th>ShelveLoc_Bad</th>\n",
       "      <th>ShelveLoc_Good</th>\n",
       "      <th>ShelveLoc_Medium</th>\n",
       "      <th>Urban_No</th>\n",
       "      <th>Urban_Yes</th>\n",
       "      <th>US_No</th>\n",
       "      <th>US_Yes</th>\n",
       "    </tr>\n",
       "  </thead>\n",
       "  <tbody>\n",
       "    <tr>\n",
       "      <th>0</th>\n",
       "      <td>1</td>\n",
       "      <td>0</td>\n",
       "      <td>0</td>\n",
       "      <td>0</td>\n",
       "      <td>1</td>\n",
       "      <td>0</td>\n",
       "      <td>1</td>\n",
       "    </tr>\n",
       "    <tr>\n",
       "      <th>1</th>\n",
       "      <td>0</td>\n",
       "      <td>1</td>\n",
       "      <td>0</td>\n",
       "      <td>0</td>\n",
       "      <td>1</td>\n",
       "      <td>0</td>\n",
       "      <td>1</td>\n",
       "    </tr>\n",
       "    <tr>\n",
       "      <th>2</th>\n",
       "      <td>0</td>\n",
       "      <td>0</td>\n",
       "      <td>1</td>\n",
       "      <td>0</td>\n",
       "      <td>1</td>\n",
       "      <td>0</td>\n",
       "      <td>1</td>\n",
       "    </tr>\n",
       "    <tr>\n",
       "      <th>3</th>\n",
       "      <td>0</td>\n",
       "      <td>0</td>\n",
       "      <td>1</td>\n",
       "      <td>0</td>\n",
       "      <td>1</td>\n",
       "      <td>0</td>\n",
       "      <td>1</td>\n",
       "    </tr>\n",
       "    <tr>\n",
       "      <th>4</th>\n",
       "      <td>1</td>\n",
       "      <td>0</td>\n",
       "      <td>0</td>\n",
       "      <td>0</td>\n",
       "      <td>1</td>\n",
       "      <td>1</td>\n",
       "      <td>0</td>\n",
       "    </tr>\n",
       "  </tbody>\n",
       "</table>\n",
       "</div>"
      ],
      "text/plain": [
       "   ShelveLoc_Bad  ShelveLoc_Good  ShelveLoc_Medium  Urban_No  Urban_Yes  \\\n",
       "0              1               0                 0         0          1   \n",
       "1              0               1                 0         0          1   \n",
       "2              0               0                 1         0          1   \n",
       "3              0               0                 1         0          1   \n",
       "4              1               0                 0         0          1   \n",
       "\n",
       "   US_No  US_Yes  \n",
       "0      0       1  \n",
       "1      0       1  \n",
       "2      0       1  \n",
       "3      0       1  \n",
       "4      1       0  "
      ]
     },
     "execution_count": 7,
     "metadata": {},
     "output_type": "execute_result"
    }
   ],
   "source": [
    "# create the dummy variables\n",
    "dummies = pd.get_dummies(df_cs[['ShelveLoc', 'Urban', 'US']]) \n",
    "dummies.head()"
   ]
  },
  {
   "cell_type": "code",
   "execution_count": 8,
   "id": "e7265232",
   "metadata": {},
   "outputs": [
    {
     "name": "stdout",
     "output_type": "stream",
     "text": [
      "<class 'pandas.core.frame.DataFrame'>\n",
      "RangeIndex: 400 entries, 0 to 399\n",
      "Data columns (total 8 columns):\n",
      " #   Column       Non-Null Count  Dtype\n",
      "---  ------       --------------  -----\n",
      " 0   CompPrice    400 non-null    int64\n",
      " 1   Income       400 non-null    int64\n",
      " 2   Advertising  400 non-null    int64\n",
      " 3   Population   400 non-null    int64\n",
      " 4   Price        400 non-null    int64\n",
      " 5   Age          400 non-null    int64\n",
      " 6   Education    400 non-null    int64\n",
      " 7   SalesDir     400 non-null    int64\n",
      "dtypes: int64(8)\n",
      "memory usage: 25.1 KB\n"
     ]
    }
   ],
   "source": [
    "#drop the old columns\n",
    "df_cs= df_cs.drop(['ShelveLoc', 'Urban', 'US'], axis = 1)\n",
    "df_cs.info()"
   ]
  },
  {
   "cell_type": "code",
   "execution_count": 9,
   "id": "34f382ee",
   "metadata": {},
   "outputs": [
    {
     "name": "stdout",
     "output_type": "stream",
     "text": [
      "<class 'pandas.core.frame.DataFrame'>\n",
      "RangeIndex: 400 entries, 0 to 399\n",
      "Data columns (total 15 columns):\n",
      " #   Column            Non-Null Count  Dtype\n",
      "---  ------            --------------  -----\n",
      " 0   CompPrice         400 non-null    int64\n",
      " 1   Income            400 non-null    int64\n",
      " 2   Advertising       400 non-null    int64\n",
      " 3   Population        400 non-null    int64\n",
      " 4   Price             400 non-null    int64\n",
      " 5   Age               400 non-null    int64\n",
      " 6   Education         400 non-null    int64\n",
      " 7   SalesDir          400 non-null    int64\n",
      " 8   ShelveLoc_Bad     400 non-null    uint8\n",
      " 9   ShelveLoc_Good    400 non-null    uint8\n",
      " 10  ShelveLoc_Medium  400 non-null    uint8\n",
      " 11  Urban_No          400 non-null    uint8\n",
      " 12  Urban_Yes         400 non-null    uint8\n",
      " 13  US_No             400 non-null    uint8\n",
      " 14  US_Yes            400 non-null    uint8\n",
      "dtypes: int64(8), uint8(7)\n",
      "memory usage: 27.9 KB\n"
     ]
    }
   ],
   "source": [
    "# concat the dummies and df\n",
    "df_cs = pd.concat([df_cs, dummies], axis = 1)\n",
    "df_cs.info()"
   ]
  },
  {
   "cell_type": "markdown",
   "id": "3cd4633b",
   "metadata": {},
   "source": [
    "Question 2-1b)"
   ]
  },
  {
   "cell_type": "code",
   "execution_count": 10,
   "id": "7c7441a5",
   "metadata": {},
   "outputs": [],
   "source": [
    "# assign x and y\n",
    "\n",
    "X = df_cs.drop(columns=[\"SalesDir\"])  \n",
    "y = df_cs[\"SalesDir\"]  \n",
    "\n",
    "# split the data\n",
    "X_train, X_test, y_train, y_test = train_test_split(X, y, test_size=0.3, random_state=42)"
   ]
  },
  {
   "cell_type": "code",
   "execution_count": 11,
   "id": "014c9859",
   "metadata": {},
   "outputs": [],
   "source": [
    "# standardize the X_train and X_test\n",
    "sc = StandardScaler()\n",
    "X_train_sc = sc.fit_transform(X_train)\n",
    "X_test_sc = sc.transform(X_test)"
   ]
  },
  {
   "cell_type": "markdown",
   "id": "25bd60f2",
   "metadata": {},
   "source": [
    "Question 2-2a)"
   ]
  },
  {
   "cell_type": "code",
   "execution_count": 12,
   "id": "94db3009",
   "metadata": {},
   "outputs": [
    {
     "data": {
      "text/html": [
       "<style>#sk-container-id-1 {color: black;}#sk-container-id-1 pre{padding: 0;}#sk-container-id-1 div.sk-toggleable {background-color: white;}#sk-container-id-1 label.sk-toggleable__label {cursor: pointer;display: block;width: 100%;margin-bottom: 0;padding: 0.3em;box-sizing: border-box;text-align: center;}#sk-container-id-1 label.sk-toggleable__label-arrow:before {content: \"▸\";float: left;margin-right: 0.25em;color: #696969;}#sk-container-id-1 label.sk-toggleable__label-arrow:hover:before {color: black;}#sk-container-id-1 div.sk-estimator:hover label.sk-toggleable__label-arrow:before {color: black;}#sk-container-id-1 div.sk-toggleable__content {max-height: 0;max-width: 0;overflow: hidden;text-align: left;background-color: #f0f8ff;}#sk-container-id-1 div.sk-toggleable__content pre {margin: 0.2em;color: black;border-radius: 0.25em;background-color: #f0f8ff;}#sk-container-id-1 input.sk-toggleable__control:checked~div.sk-toggleable__content {max-height: 200px;max-width: 100%;overflow: auto;}#sk-container-id-1 input.sk-toggleable__control:checked~label.sk-toggleable__label-arrow:before {content: \"▾\";}#sk-container-id-1 div.sk-estimator input.sk-toggleable__control:checked~label.sk-toggleable__label {background-color: #d4ebff;}#sk-container-id-1 div.sk-label input.sk-toggleable__control:checked~label.sk-toggleable__label {background-color: #d4ebff;}#sk-container-id-1 input.sk-hidden--visually {border: 0;clip: rect(1px 1px 1px 1px);clip: rect(1px, 1px, 1px, 1px);height: 1px;margin: -1px;overflow: hidden;padding: 0;position: absolute;width: 1px;}#sk-container-id-1 div.sk-estimator {font-family: monospace;background-color: #f0f8ff;border: 1px dotted black;border-radius: 0.25em;box-sizing: border-box;margin-bottom: 0.5em;}#sk-container-id-1 div.sk-estimator:hover {background-color: #d4ebff;}#sk-container-id-1 div.sk-parallel-item::after {content: \"\";width: 100%;border-bottom: 1px solid gray;flex-grow: 1;}#sk-container-id-1 div.sk-label:hover label.sk-toggleable__label {background-color: #d4ebff;}#sk-container-id-1 div.sk-serial::before {content: \"\";position: absolute;border-left: 1px solid gray;box-sizing: border-box;top: 0;bottom: 0;left: 50%;z-index: 0;}#sk-container-id-1 div.sk-serial {display: flex;flex-direction: column;align-items: center;background-color: white;padding-right: 0.2em;padding-left: 0.2em;position: relative;}#sk-container-id-1 div.sk-item {position: relative;z-index: 1;}#sk-container-id-1 div.sk-parallel {display: flex;align-items: stretch;justify-content: center;background-color: white;position: relative;}#sk-container-id-1 div.sk-item::before, #sk-container-id-1 div.sk-parallel-item::before {content: \"\";position: absolute;border-left: 1px solid gray;box-sizing: border-box;top: 0;bottom: 0;left: 50%;z-index: -1;}#sk-container-id-1 div.sk-parallel-item {display: flex;flex-direction: column;z-index: 1;position: relative;background-color: white;}#sk-container-id-1 div.sk-parallel-item:first-child::after {align-self: flex-end;width: 50%;}#sk-container-id-1 div.sk-parallel-item:last-child::after {align-self: flex-start;width: 50%;}#sk-container-id-1 div.sk-parallel-item:only-child::after {width: 0;}#sk-container-id-1 div.sk-dashed-wrapped {border: 1px dashed gray;margin: 0 0.4em 0.5em 0.4em;box-sizing: border-box;padding-bottom: 0.4em;background-color: white;}#sk-container-id-1 div.sk-label label {font-family: monospace;font-weight: bold;display: inline-block;line-height: 1.2em;}#sk-container-id-1 div.sk-label-container {text-align: center;}#sk-container-id-1 div.sk-container {/* jupyter's `normalize.less` sets `[hidden] { display: none; }` but bootstrap.min.css set `[hidden] { display: none !important; }` so we also need the `!important` here to be able to override the default hidden behavior on the sphinx rendered scikit-learn.org. See: https://github.com/scikit-learn/scikit-learn/issues/21755 */display: inline-block !important;position: relative;}#sk-container-id-1 div.sk-text-repr-fallback {display: none;}</style><div id=\"sk-container-id-1\" class=\"sk-top-container\"><div class=\"sk-text-repr-fallback\"><pre>LogisticRegression(max_iter=10000, random_state=42)</pre><b>In a Jupyter environment, please rerun this cell to show the HTML representation or trust the notebook. <br />On GitHub, the HTML representation is unable to render, please try loading this page with nbviewer.org.</b></div><div class=\"sk-container\" hidden><div class=\"sk-item\"><div class=\"sk-estimator sk-toggleable\"><input class=\"sk-toggleable__control sk-hidden--visually\" id=\"sk-estimator-id-1\" type=\"checkbox\" checked><label for=\"sk-estimator-id-1\" class=\"sk-toggleable__label sk-toggleable__label-arrow\">LogisticRegression</label><div class=\"sk-toggleable__content\"><pre>LogisticRegression(max_iter=10000, random_state=42)</pre></div></div></div></div></div>"
      ],
      "text/plain": [
       "LogisticRegression(max_iter=10000, random_state=42)"
      ]
     },
     "execution_count": 12,
     "metadata": {},
     "output_type": "execute_result"
    }
   ],
   "source": [
    "# fit the model\n",
    "logistic_initial = LogisticRegression(max_iter = 10000, random_state = 42)\n",
    "logistic_initial.fit(X_train_sc, y_train)\n"
   ]
  },
  {
   "cell_type": "markdown",
   "id": "0bb2284a",
   "metadata": {},
   "source": [
    "Question 2-2b)"
   ]
  },
  {
   "cell_type": "code",
   "execution_count": 13,
   "id": "ecea3230",
   "metadata": {},
   "outputs": [
    {
     "name": "stdout",
     "output_type": "stream",
     "text": [
      "Training Accuracy: 0.9107142857142857\n",
      "Training Precision: 0.9291338582677166\n",
      "Training Recall: 0.8805970149253731\n"
     ]
    }
   ],
   "source": [
    "y_train_pred = logistic_initial.predict(X_train_sc)\n",
    "\n",
    "# calculate accuracy, precision, and recall scores\n",
    "accuracy = accuracy_score(y_train, y_train_pred)\n",
    "precision = precision_score(y_train, y_train_pred)\n",
    "recall = recall_score(y_train, y_train_pred)\n",
    "\n",
    "# print out the results\n",
    "print(\"Training Accuracy:\", accuracy)\n",
    "print(\"Training Precision:\", precision)\n",
    "print(\"Training Recall:\", recall)"
   ]
  },
  {
   "cell_type": "code",
   "execution_count": 14,
   "id": "0a343769",
   "metadata": {},
   "outputs": [
    {
     "data": {
      "text/plain": [
       "array([[137,   9],\n",
       "       [ 16, 118]], dtype=int64)"
      ]
     },
     "execution_count": 14,
     "metadata": {},
     "output_type": "execute_result"
    }
   ],
   "source": [
    "cm = confusion_matrix(y_train, y_train_pred)\n",
    "cm"
   ]
  },
  {
   "cell_type": "markdown",
   "id": "fc2527f9",
   "metadata": {},
   "source": [
    "Question 2-2c)"
   ]
  },
  {
   "cell_type": "code",
   "execution_count": 15,
   "id": "16c50dd2",
   "metadata": {},
   "outputs": [
    {
     "data": {
      "text/plain": [
       "array([[46,  9],\n",
       "       [ 6, 59]], dtype=int64)"
      ]
     },
     "execution_count": 15,
     "metadata": {},
     "output_type": "execute_result"
    }
   ],
   "source": [
    "# Predict on the test data\n",
    "y_test_pred = logistic_initial.predict(X_test_sc)\n",
    "\n",
    "# Calculate accuracy, precision, and recall scores for the test data\n",
    "accuracy_test = accuracy_score(y_test, y_test_pred)\n",
    "precision_test = precision_score(y_test, y_test_pred)\n",
    "recall_test = recall_score(y_test, y_test_pred)\n",
    "\n",
    "# Calculate the confusion matrix\n",
    "cm = confusion_matrix(y_test, y_test_pred)\n",
    "cm"
   ]
  },
  {
   "cell_type": "code",
   "execution_count": 16,
   "id": "9c4b5d28",
   "metadata": {},
   "outputs": [
    {
     "name": "stdout",
     "output_type": "stream",
     "text": [
      "Test Accuracy: 0.875\n",
      "Test Precision: 0.8676470588235294\n",
      "Test Recall: 0.9076923076923077\n"
     ]
    }
   ],
   "source": [
    "print(\"Test Accuracy:\", accuracy_test)\n",
    "print(\"Test Precision:\", precision_test)\n",
    "print(\"Test Recall:\", recall_test)\n"
   ]
  },
  {
   "cell_type": "markdown",
   "id": "a371657a",
   "metadata": {},
   "source": [
    "There is not a huge difference between our training results and testing results. Our accuracy and precision went down, but our recall actually went up which means we are making less type 2 errors."
   ]
  },
  {
   "cell_type": "code",
   "execution_count": 17,
   "id": "ea9ff9d4",
   "metadata": {},
   "outputs": [
    {
     "name": "stdout",
     "output_type": "stream",
     "text": [
      "Probability Scores for Below Average Sales (Class 0):\n",
      "[0.98057035 0.99692997 0.2318765  0.98725538 0.06822085]\n",
      "Probability Scores for Above Average Sales (Class 1):\n",
      "[0.01942965 0.00307003 0.7681235  0.01274462 0.93177915]\n"
     ]
    }
   ],
   "source": [
    "probability_scores = logistic_initial.predict_proba(X_test_sc)\n",
    "\n",
    "# The result is a 2D array with two columns: probability of class 0 and probability of class 1\n",
    "# Column 0: Probability of below average sales\n",
    "# Column 1: Probability of above average sales\n",
    "\n",
    "# Example: Printing the first few rows of probability scores\n",
    "print(\"Probability Scores for Below Average Sales (Class 0):\")\n",
    "print(probability_scores[:5, 0])\n",
    "\n",
    "print(\"Probability Scores for Above Average Sales (Class 1):\")\n",
    "print(probability_scores[:5, 1])"
   ]
  },
  {
   "cell_type": "code",
   "execution_count": 18,
   "id": "fa250f4d",
   "metadata": {},
   "outputs": [
    {
     "data": {
      "text/html": [
       "<div>\n",
       "<style scoped>\n",
       "    .dataframe tbody tr th:only-of-type {\n",
       "        vertical-align: middle;\n",
       "    }\n",
       "\n",
       "    .dataframe tbody tr th {\n",
       "        vertical-align: top;\n",
       "    }\n",
       "\n",
       "    .dataframe thead th {\n",
       "        text-align: right;\n",
       "    }\n",
       "</style>\n",
       "<table border=\"1\" class=\"dataframe\">\n",
       "  <thead>\n",
       "    <tr style=\"text-align: right;\">\n",
       "      <th></th>\n",
       "      <th>y_test</th>\n",
       "      <th>Probability_Above_Average</th>\n",
       "      <th>Probability_Below_Average</th>\n",
       "      <th>Predicted_Values</th>\n",
       "    </tr>\n",
       "  </thead>\n",
       "  <tbody>\n",
       "    <tr>\n",
       "      <th>209</th>\n",
       "      <td>0</td>\n",
       "      <td>0.019430</td>\n",
       "      <td>0.980570</td>\n",
       "      <td>0</td>\n",
       "    </tr>\n",
       "    <tr>\n",
       "      <th>280</th>\n",
       "      <td>0</td>\n",
       "      <td>0.003070</td>\n",
       "      <td>0.996930</td>\n",
       "      <td>0</td>\n",
       "    </tr>\n",
       "    <tr>\n",
       "      <th>33</th>\n",
       "      <td>1</td>\n",
       "      <td>0.768124</td>\n",
       "      <td>0.231876</td>\n",
       "      <td>1</td>\n",
       "    </tr>\n",
       "    <tr>\n",
       "      <th>210</th>\n",
       "      <td>0</td>\n",
       "      <td>0.012745</td>\n",
       "      <td>0.987255</td>\n",
       "      <td>0</td>\n",
       "    </tr>\n",
       "    <tr>\n",
       "      <th>93</th>\n",
       "      <td>1</td>\n",
       "      <td>0.931779</td>\n",
       "      <td>0.068221</td>\n",
       "      <td>1</td>\n",
       "    </tr>\n",
       "  </tbody>\n",
       "</table>\n",
       "</div>"
      ],
      "text/plain": [
       "     y_test  Probability_Above_Average  Probability_Below_Average  \\\n",
       "209       0                   0.019430                   0.980570   \n",
       "280       0                   0.003070                   0.996930   \n",
       "33        1                   0.768124                   0.231876   \n",
       "210       0                   0.012745                   0.987255   \n",
       "93        1                   0.931779                   0.068221   \n",
       "\n",
       "     Predicted_Values  \n",
       "209                 0  \n",
       "280                 0  \n",
       "33                  1  \n",
       "210                 0  \n",
       "93                  1  "
      ]
     },
     "execution_count": 18,
     "metadata": {},
     "output_type": "execute_result"
    }
   ],
   "source": [
    "# Calculate the probability scores for Class 1 (above average sales)\n",
    "probability_scores_class1 = logistic_initial.predict_proba(X_test_sc)[:, 1]\n",
    "\n",
    "# Calculate the probability scores for Class 0 (below average sales)\n",
    "probability_scores_class0 = logistic_initial.predict_proba(X_test_sc)[:, 0]\n",
    "\n",
    "# Set classification threshold (e.g., 0.5)\n",
    "threshold = 0.5\n",
    "\n",
    "# Make predictions based on the threshold\n",
    "predicted_values = (probability_scores_class1 >= threshold).astype(int)\n",
    "\n",
    "# Create the df_results data frame\n",
    "df_results = pd.DataFrame({\n",
    "    'y_test': y_test,\n",
    "    'Probability_Above_Average': probability_scores_class1,\n",
    "    'Probability_Below_Average': probability_scores_class0,\n",
    "    'Predicted_Values': predicted_values\n",
    "})\n",
    "\n",
    "# Display the first few rows of the df_results data frame\n",
    "df_results.head()"
   ]
  },
  {
   "cell_type": "markdown",
   "id": "b043e550",
   "metadata": {},
   "source": [
    "Question 2-3a-c)"
   ]
  },
  {
   "cell_type": "code",
   "execution_count": 19,
   "id": "6c51b4f2",
   "metadata": {},
   "outputs": [
    {
     "name": "stdout",
     "output_type": "stream",
     "text": [
      "Tuned hyperparameters: (best parameters) {'solver': 'sag', 'penalty': 'l2', 'class_weight': 'balanced', 'C': 6.098000000000001}\n",
      "Accuracy: 0.8892857142857142\n"
     ]
    }
   ],
   "source": [
    "# Define a grid of hyperparameters to test\n",
    "grid = {\n",
    "    \"C\": np.arange(0.001, 10, 0.001),#[0.001, 0.01, 0.1, 0.5, 1, 2, 5, 10, 20, 30, 40, 50, 100, 200]\n",
    "    \"penalty\": [\"l1\", \"l2\"],\n",
    "    \"class_weight\": [None, 'balanced', {0:1, 1:1.5}, {0:1, 1:2}, {0:1, 1:3}, {0:1, 1:5}],\n",
    "    \"solver\": ['newton-cg', 'lbfgs', 'liblinear', 'sag', 'saga']\n",
    "}\n",
    "# Initialize a logistic regression model with a random state of 42\n",
    "logreg = LogisticRegression(random_state=42, max_iter = 10000)\n",
    "\n",
    "# Use RandomizedSearchCV to perform a randomized search over the grid of hyperparameters, using a 10-fold cross-validation\n",
    "logreg_cv = RandomizedSearchCV(logreg, grid, cv=10, random_state=42)\n",
    "\n",
    "# Fit the model to the training data\n",
    "logreg_cv.fit(X_train_sc, y_train)\n",
    "\n",
    "# Print the best hyperparameters and corresponding accuracy score\n",
    "print(\"Tuned hyperparameters: (best parameters)\", logreg_cv.best_params_)\n",
    "print(\"Accuracy:\", logreg_cv.best_score_)"
   ]
  },
  {
   "cell_type": "markdown",
   "id": "2de5339d",
   "metadata": {},
   "source": [
    "Question 2-4a)"
   ]
  },
  {
   "cell_type": "code",
   "execution_count": 20,
   "id": "6099c2ec",
   "metadata": {},
   "outputs": [
    {
     "data": {
      "text/html": [
       "<style>#sk-container-id-2 {color: black;}#sk-container-id-2 pre{padding: 0;}#sk-container-id-2 div.sk-toggleable {background-color: white;}#sk-container-id-2 label.sk-toggleable__label {cursor: pointer;display: block;width: 100%;margin-bottom: 0;padding: 0.3em;box-sizing: border-box;text-align: center;}#sk-container-id-2 label.sk-toggleable__label-arrow:before {content: \"▸\";float: left;margin-right: 0.25em;color: #696969;}#sk-container-id-2 label.sk-toggleable__label-arrow:hover:before {color: black;}#sk-container-id-2 div.sk-estimator:hover label.sk-toggleable__label-arrow:before {color: black;}#sk-container-id-2 div.sk-toggleable__content {max-height: 0;max-width: 0;overflow: hidden;text-align: left;background-color: #f0f8ff;}#sk-container-id-2 div.sk-toggleable__content pre {margin: 0.2em;color: black;border-radius: 0.25em;background-color: #f0f8ff;}#sk-container-id-2 input.sk-toggleable__control:checked~div.sk-toggleable__content {max-height: 200px;max-width: 100%;overflow: auto;}#sk-container-id-2 input.sk-toggleable__control:checked~label.sk-toggleable__label-arrow:before {content: \"▾\";}#sk-container-id-2 div.sk-estimator input.sk-toggleable__control:checked~label.sk-toggleable__label {background-color: #d4ebff;}#sk-container-id-2 div.sk-label input.sk-toggleable__control:checked~label.sk-toggleable__label {background-color: #d4ebff;}#sk-container-id-2 input.sk-hidden--visually {border: 0;clip: rect(1px 1px 1px 1px);clip: rect(1px, 1px, 1px, 1px);height: 1px;margin: -1px;overflow: hidden;padding: 0;position: absolute;width: 1px;}#sk-container-id-2 div.sk-estimator {font-family: monospace;background-color: #f0f8ff;border: 1px dotted black;border-radius: 0.25em;box-sizing: border-box;margin-bottom: 0.5em;}#sk-container-id-2 div.sk-estimator:hover {background-color: #d4ebff;}#sk-container-id-2 div.sk-parallel-item::after {content: \"\";width: 100%;border-bottom: 1px solid gray;flex-grow: 1;}#sk-container-id-2 div.sk-label:hover label.sk-toggleable__label {background-color: #d4ebff;}#sk-container-id-2 div.sk-serial::before {content: \"\";position: absolute;border-left: 1px solid gray;box-sizing: border-box;top: 0;bottom: 0;left: 50%;z-index: 0;}#sk-container-id-2 div.sk-serial {display: flex;flex-direction: column;align-items: center;background-color: white;padding-right: 0.2em;padding-left: 0.2em;position: relative;}#sk-container-id-2 div.sk-item {position: relative;z-index: 1;}#sk-container-id-2 div.sk-parallel {display: flex;align-items: stretch;justify-content: center;background-color: white;position: relative;}#sk-container-id-2 div.sk-item::before, #sk-container-id-2 div.sk-parallel-item::before {content: \"\";position: absolute;border-left: 1px solid gray;box-sizing: border-box;top: 0;bottom: 0;left: 50%;z-index: -1;}#sk-container-id-2 div.sk-parallel-item {display: flex;flex-direction: column;z-index: 1;position: relative;background-color: white;}#sk-container-id-2 div.sk-parallel-item:first-child::after {align-self: flex-end;width: 50%;}#sk-container-id-2 div.sk-parallel-item:last-child::after {align-self: flex-start;width: 50%;}#sk-container-id-2 div.sk-parallel-item:only-child::after {width: 0;}#sk-container-id-2 div.sk-dashed-wrapped {border: 1px dashed gray;margin: 0 0.4em 0.5em 0.4em;box-sizing: border-box;padding-bottom: 0.4em;background-color: white;}#sk-container-id-2 div.sk-label label {font-family: monospace;font-weight: bold;display: inline-block;line-height: 1.2em;}#sk-container-id-2 div.sk-label-container {text-align: center;}#sk-container-id-2 div.sk-container {/* jupyter's `normalize.less` sets `[hidden] { display: none; }` but bootstrap.min.css set `[hidden] { display: none !important; }` so we also need the `!important` here to be able to override the default hidden behavior on the sphinx rendered scikit-learn.org. See: https://github.com/scikit-learn/scikit-learn/issues/21755 */display: inline-block !important;position: relative;}#sk-container-id-2 div.sk-text-repr-fallback {display: none;}</style><div id=\"sk-container-id-2\" class=\"sk-top-container\"><div class=\"sk-text-repr-fallback\"><pre>LogisticRegression(C=6.098000000000001, class_weight=&#x27;balanced&#x27;, max_iter=10000,\n",
       "                   random_state=42, solver=&#x27;sag&#x27;)</pre><b>In a Jupyter environment, please rerun this cell to show the HTML representation or trust the notebook. <br />On GitHub, the HTML representation is unable to render, please try loading this page with nbviewer.org.</b></div><div class=\"sk-container\" hidden><div class=\"sk-item\"><div class=\"sk-estimator sk-toggleable\"><input class=\"sk-toggleable__control sk-hidden--visually\" id=\"sk-estimator-id-2\" type=\"checkbox\" checked><label for=\"sk-estimator-id-2\" class=\"sk-toggleable__label sk-toggleable__label-arrow\">LogisticRegression</label><div class=\"sk-toggleable__content\"><pre>LogisticRegression(C=6.098000000000001, class_weight=&#x27;balanced&#x27;, max_iter=10000,\n",
       "                   random_state=42, solver=&#x27;sag&#x27;)</pre></div></div></div></div></div>"
      ],
      "text/plain": [
       "LogisticRegression(C=6.098000000000001, class_weight='balanced', max_iter=10000,\n",
       "                   random_state=42, solver='sag')"
      ]
     },
     "execution_count": 20,
     "metadata": {},
     "output_type": "execute_result"
    }
   ],
   "source": [
    "# Extract the best hyperparameters\n",
    "best_C = logreg_cv.best_params_['C']\n",
    "best_penalty = logreg_cv.best_params_['penalty']\n",
    "best_class_weight = logreg_cv.best_params_['class_weight']\n",
    "best_solver = logreg_cv.best_params_['solver']\n",
    "\n",
    "# Create a logistic regression model with the best hyperparameters\n",
    "logistic_best = LogisticRegression(\n",
    "    C=best_C,\n",
    "    penalty=best_penalty,\n",
    "    class_weight=best_class_weight,\n",
    "    solver=best_solver,\n",
    "    random_state=42,  # You can set the random state if needed\n",
    "    max_iter=10000  # You can adjust max_iter as necessary\n",
    ")\n",
    "\n",
    "# Fit the model to the training data\n",
    "logistic_best.fit(X_train_sc, y_train)"
   ]
  },
  {
   "cell_type": "markdown",
   "id": "55eafe31",
   "metadata": {},
   "source": [
    "Question 2-4b)"
   ]
  },
  {
   "cell_type": "code",
   "execution_count": 21,
   "id": "f7f0bce9",
   "metadata": {},
   "outputs": [
    {
     "data": {
      "text/plain": [
       "array([[46,  9],\n",
       "       [ 4, 61]], dtype=int64)"
      ]
     },
     "execution_count": 21,
     "metadata": {},
     "output_type": "execute_result"
    }
   ],
   "source": [
    "# Predict the response on the test data using the best model\n",
    "y_pred_best = logistic_best.predict(X_test_sc)\n",
    "\n",
    "# Create a confusion matrix\n",
    "confusion_matrix_best = confusion_matrix(y_test, y_pred_best)\n",
    "confusion_matrix_best"
   ]
  },
  {
   "cell_type": "markdown",
   "id": "159e5be5",
   "metadata": {},
   "source": [
    "Question 2-4c)"
   ]
  },
  {
   "cell_type": "code",
   "execution_count": 22,
   "id": "af734be5",
   "metadata": {},
   "outputs": [
    {
     "name": "stdout",
     "output_type": "stream",
     "text": [
      "Test Accuracy: 0.8916666666666667\n",
      "Test Precision: 0.8714285714285714\n",
      "Test Recall: 0.9384615384615385\n"
     ]
    }
   ],
   "source": [
    "\n",
    "# Calculate accuracy, precision, and recall scores for the test data\n",
    "accuracy_test = accuracy_score(y_test, y_pred_best)\n",
    "precision_test = precision_score(y_test, y_pred_best)\n",
    "recall_test = recall_score(y_test, y_pred_best)\n",
    "\n",
    "print(\"Test Accuracy:\", accuracy_test)\n",
    "print(\"Test Precision:\", precision_test)\n",
    "print(\"Test Recall:\", recall_test)"
   ]
  },
  {
   "cell_type": "markdown",
   "id": "8af1345f",
   "metadata": {},
   "source": [
    "Question 2-4d)"
   ]
  },
  {
   "cell_type": "code",
   "execution_count": 23,
   "id": "788bf682",
   "metadata": {},
   "outputs": [
    {
     "data": {
      "text/html": [
       "<div>\n",
       "<style scoped>\n",
       "    .dataframe tbody tr th:only-of-type {\n",
       "        vertical-align: middle;\n",
       "    }\n",
       "\n",
       "    .dataframe tbody tr th {\n",
       "        vertical-align: top;\n",
       "    }\n",
       "\n",
       "    .dataframe thead th {\n",
       "        text-align: right;\n",
       "    }\n",
       "</style>\n",
       "<table border=\"1\" class=\"dataframe\">\n",
       "  <thead>\n",
       "    <tr style=\"text-align: right;\">\n",
       "      <th></th>\n",
       "      <th>Variable_Names</th>\n",
       "      <th>logreg_coeff</th>\n",
       "    </tr>\n",
       "  </thead>\n",
       "  <tbody>\n",
       "    <tr>\n",
       "      <th>0</th>\n",
       "      <td>Price</td>\n",
       "      <td>-4.722449</td>\n",
       "    </tr>\n",
       "    <tr>\n",
       "      <th>1</th>\n",
       "      <td>ShelveLoc_Bad</td>\n",
       "      <td>-1.520345</td>\n",
       "    </tr>\n",
       "    <tr>\n",
       "      <th>2</th>\n",
       "      <td>Age</td>\n",
       "      <td>-1.459314</td>\n",
       "    </tr>\n",
       "    <tr>\n",
       "      <th>3</th>\n",
       "      <td>ShelveLoc_Medium</td>\n",
       "      <td>-0.199367</td>\n",
       "    </tr>\n",
       "    <tr>\n",
       "      <th>4</th>\n",
       "      <td>US_Yes</td>\n",
       "      <td>-0.192944</td>\n",
       "    </tr>\n",
       "    <tr>\n",
       "      <th>5</th>\n",
       "      <td>Education</td>\n",
       "      <td>-0.161909</td>\n",
       "    </tr>\n",
       "    <tr>\n",
       "      <th>6</th>\n",
       "      <td>Urban_No</td>\n",
       "      <td>-0.065738</td>\n",
       "    </tr>\n",
       "    <tr>\n",
       "      <th>7</th>\n",
       "      <td>Urban_Yes</td>\n",
       "      <td>0.065738</td>\n",
       "    </tr>\n",
       "    <tr>\n",
       "      <th>8</th>\n",
       "      <td>Population</td>\n",
       "      <td>0.163409</td>\n",
       "    </tr>\n",
       "    <tr>\n",
       "      <th>9</th>\n",
       "      <td>US_No</td>\n",
       "      <td>0.192944</td>\n",
       "    </tr>\n",
       "    <tr>\n",
       "      <th>10</th>\n",
       "      <td>Income</td>\n",
       "      <td>0.581288</td>\n",
       "    </tr>\n",
       "    <tr>\n",
       "      <th>11</th>\n",
       "      <td>Advertising</td>\n",
       "      <td>1.346027</td>\n",
       "    </tr>\n",
       "    <tr>\n",
       "      <th>12</th>\n",
       "      <td>ShelveLoc_Good</td>\n",
       "      <td>1.877422</td>\n",
       "    </tr>\n",
       "    <tr>\n",
       "      <th>13</th>\n",
       "      <td>CompPrice</td>\n",
       "      <td>2.876992</td>\n",
       "    </tr>\n",
       "  </tbody>\n",
       "</table>\n",
       "</div>"
      ],
      "text/plain": [
       "      Variable_Names  logreg_coeff\n",
       "0              Price     -4.722449\n",
       "1      ShelveLoc_Bad     -1.520345\n",
       "2                Age     -1.459314\n",
       "3   ShelveLoc_Medium     -0.199367\n",
       "4             US_Yes     -0.192944\n",
       "5          Education     -0.161909\n",
       "6           Urban_No     -0.065738\n",
       "7          Urban_Yes      0.065738\n",
       "8         Population      0.163409\n",
       "9              US_No      0.192944\n",
       "10            Income      0.581288\n",
       "11       Advertising      1.346027\n",
       "12    ShelveLoc_Good      1.877422\n",
       "13         CompPrice      2.876992"
      ]
     },
     "execution_count": 23,
     "metadata": {},
     "output_type": "execute_result"
    }
   ],
   "source": [
    "# The code blow builds the dataframe that enables us to easily build the barplot of coefficients\n",
    "best_coef = logistic_best.coef_\n",
    "df_best_coef = pd.DataFrame(best_coef)\n",
    "names = X.columns \n",
    "df_best_coef.columns = names \n",
    "\n",
    "#transpose the data frame for better view\n",
    "df_best_coef = df_best_coef.T \n",
    "\n",
    "# renaming the column of the cefficient to logreg_coefficient\n",
    "df_best_coef = df_best_coef.rename(columns = {0:'logreg_coeff'}) \n",
    "\n",
    "df_best_coef = df_best_coef.sort_values('logreg_coeff')\n",
    "\n",
    "df_best_coef = df_best_coef.reset_index()\n",
    "df_best_coef = df_best_coef.rename(columns = {'index':'Variable_Names', 'logreg_coeff':'logreg_coeff'})\n",
    "df_best_coef"
   ]
  },
  {
   "cell_type": "code",
   "execution_count": 24,
   "id": "e97bdc16",
   "metadata": {},
   "outputs": [
    {
     "data": {
      "image/png": "[encoded data removed]",
      "text/plain": [
       "<Figure size 1000x600 with 1 Axes>"
      ]
     },
     "metadata": {},
     "output_type": "display_data"
    }
   ],
   "source": [
    "plt.figure(figsize=(10, 6))\n",
    "plot = sns.barplot(x=\"Variable_Names\",y=\"logreg_coeff\",data=df_best_coef, palette =\"YlGnBu\")\n",
    "plot.bar_label(plot.containers[0], fmt='%.2g')\n",
    "\n",
    "plt.xticks(rotation=80)\n",
    "plt.title('Barplot of Coefficients for Best Logistic Regression Model')\n",
    "plt.xlabel('Variable Names')\n",
    "plt.ylabel('Value of Coefficient')\n",
    "plt.show()"
   ]
  },
  {
   "cell_type": "markdown",
   "id": "16594f3f",
   "metadata": {},
   "source": [
    "Question 2-4e)"
   ]
  },
  {
   "cell_type": "code",
   "execution_count": 25,
   "id": "03a4f86e",
   "metadata": {},
   "outputs": [
    {
     "data": {
      "text/html": [
       "<div>\n",
       "<style scoped>\n",
       "    .dataframe tbody tr th:only-of-type {\n",
       "        vertical-align: middle;\n",
       "    }\n",
       "\n",
       "    .dataframe tbody tr th {\n",
       "        vertical-align: top;\n",
       "    }\n",
       "\n",
       "    .dataframe thead th {\n",
       "        text-align: right;\n",
       "    }\n",
       "</style>\n",
       "<table border=\"1\" class=\"dataframe\">\n",
       "  <thead>\n",
       "    <tr style=\"text-align: right;\">\n",
       "      <th></th>\n",
       "      <th>y test</th>\n",
       "      <th>Probability Below Average</th>\n",
       "      <th>Probability Above Average</th>\n",
       "      <th>Predicted Values</th>\n",
       "    </tr>\n",
       "  </thead>\n",
       "  <tbody>\n",
       "    <tr>\n",
       "      <th>209</th>\n",
       "      <td>0</td>\n",
       "      <td>0.993607</td>\n",
       "      <td>0.006393</td>\n",
       "      <td>0</td>\n",
       "    </tr>\n",
       "    <tr>\n",
       "      <th>280</th>\n",
       "      <td>0</td>\n",
       "      <td>0.999621</td>\n",
       "      <td>0.000379</td>\n",
       "      <td>0</td>\n",
       "    </tr>\n",
       "    <tr>\n",
       "      <th>33</th>\n",
       "      <td>1</td>\n",
       "      <td>0.166201</td>\n",
       "      <td>0.833799</td>\n",
       "      <td>1</td>\n",
       "    </tr>\n",
       "    <tr>\n",
       "      <th>210</th>\n",
       "      <td>0</td>\n",
       "      <td>0.996676</td>\n",
       "      <td>0.003324</td>\n",
       "      <td>0</td>\n",
       "    </tr>\n",
       "    <tr>\n",
       "      <th>93</th>\n",
       "      <td>1</td>\n",
       "      <td>0.016559</td>\n",
       "      <td>0.983441</td>\n",
       "      <td>1</td>\n",
       "    </tr>\n",
       "  </tbody>\n",
       "</table>\n",
       "</div>"
      ],
      "text/plain": [
       "     y test  Probability Below Average  Probability Above Average  \\\n",
       "209       0                   0.993607                   0.006393   \n",
       "280       0                   0.999621                   0.000379   \n",
       "33        1                   0.166201                   0.833799   \n",
       "210       0                   0.996676                   0.003324   \n",
       "93        1                   0.016559                   0.983441   \n",
       "\n",
       "     Predicted Values  \n",
       "209                 0  \n",
       "280                 0  \n",
       "33                  1  \n",
       "210                 0  \n",
       "93                  1  "
      ]
     },
     "execution_count": 25,
     "metadata": {},
     "output_type": "execute_result"
    }
   ],
   "source": [
    "# Predict the probability for each class (0 and 1) on the test data\n",
    "probability_scores = logistic_best.predict_proba(X_test_sc)\n",
    "\n",
    "# Extract the probability scores for class 0 and class 1\n",
    "prob_below_average = probability_scores[:, 0]\n",
    "prob_above_average = probability_scores[:, 1]\n",
    "\n",
    "# Create a DataFrame to store the results\n",
    "df_best_results = pd.DataFrame({\n",
    "    'y test': y_test,\n",
    "    'Probability Below Average': prob_below_average,\n",
    "    'Probability Above Average': prob_above_average,\n",
    "    'Predicted Values': y_pred_best\n",
    "})\n",
    "\n",
    "# Display the DataFrame\n",
    "df_best_results.head()"
   ]
  },
  {
   "cell_type": "markdown",
   "id": "d9c5dc84",
   "metadata": {},
   "source": [
    "If we compare the confusion matricies, we notice that the best model has reduced our type two errors and therefore imporved our recall. This means that the best model is better at identifying above average sales than the first model. Our accuracy also improved because we are making less type two errors and type one errors stayed the same. "
   ]
  },
  {
   "cell_type": "markdown",
   "id": "1b54dd3a",
   "metadata": {},
   "source": [
    "Question 2-5a)"
   ]
  },
  {
   "cell_type": "code",
   "execution_count": 27,
   "id": "d6383551",
   "metadata": {},
   "outputs": [
    {
     "data": {
      "image/png": "[encoded data removed]",
      "text/plain": [
       "<Figure size 800x600 with 1 Axes>"
      ]
     },
     "metadata": {},
     "output_type": "display_data"
    }
   ],
   "source": [
    "\n",
    "\n",
    "# Define data for the counts of correct and incorrect predictions for each model\n",
    "correct_counts = [105, 107]\n",
    "incorrect_counts = [15, 13]\n",
    "\n",
    "# Define labels for the models\n",
    "models = [\"Initial Model\", \"Best Model\"]\n",
    "\n",
    "# Create a stacked bar diagram\n",
    "plt.figure(figsize=(8, 6))\n",
    "plt.bar(models, correct_counts, label='Correct Predictions', color='black')\n",
    "plt.bar(models, incorrect_counts, bottom=correct_counts, label='Incorrect Predictions', color='red')\n",
    "\n",
    "# Add labels and legend\n",
    "plt.xlabel(\"Models\")\n",
    "plt.ylabel(\"Counts\")\n",
    "plt.title(\"Counts of Correct and Incorrect Predictions by Model\")\n",
    "plt.legend(loc='upper right', bbox_to_anchor=(1.3, 1.0))\n",
    "\n",
    "# Show the plot\n",
    "plt.show()"
   ]
  },
  {
   "cell_type": "markdown",
   "id": "a54a7ede",
   "metadata": {},
   "source": [
    "Question 2-5b)"
   ]
  },
  {
   "cell_type": "code",
   "execution_count": 33,
   "id": "12ed5cb2",
   "metadata": {},
   "outputs": [
    {
     "data": {
      "image/png": "[encoded data removed]",
      "text/plain": [
       "<Figure size 800x600 with 1 Axes>"
      ]
     },
     "metadata": {},
     "output_type": "display_data"
    }
   ],
   "source": [
    "# Calculate ROC curve for the initial model\n",
    "fpr_initial, tpr_initial, _ = roc_curve(y_test, logistic_initial.predict_proba(X_test_sc)[:, 1])\n",
    "roc_auc_initial = roc_auc_score(y_test, logistic_initial.predict_proba(X_test_sc)[:, 1])\n",
    "\n",
    "# Calculate ROC curve for the best model\n",
    "fpr_best, tpr_best, _ = roc_curve(y_test, logistic_best.predict_proba(X_test_sc)[:, 1])\n",
    "roc_auc_best = roc_auc_score(y_test, logistic_best.predict_proba(X_test_sc)[:, 1])\n",
    "\n",
    "# Plot ROC curves\n",
    "plt.figure(figsize=(8, 6))\n",
    "plt.plot(fpr_initial, tpr_initial, color='blue', lw=2, label=f'Initial Model (AUC = {roc_auc_initial:.2f})')\n",
    "plt.plot(fpr_best, tpr_best, color='red', lw=2, label=f'Best Model (AUC = {roc_auc_best:.2f})')\n",
    "plt.plot([0, 1], [0, 1], color='gray', linestyle='--')\n",
    "plt.xlim([0.0, 1.0])\n",
    "plt.ylim([0.0, 1.05])\n",
    "plt.xlabel('False Positive Rate')\n",
    "plt.ylabel('True Positive Rate')\n",
    "plt.title('ROC Curve')\n",
    "plt.legend(loc='lower right')\n",
    "plt.show()"
   ]
  },
  {
   "cell_type": "markdown",
   "id": "d5587ab9",
   "metadata": {},
   "source": [
    "We want the the highest area under the curve (AUC). Since both of our models' performances were very close to each other, we see that their AUCs are very close to eachother. "
   ]
  },
  {
   "cell_type": "code",
   "execution_count": null,
   "id": "b4fbd653",
   "metadata": {},
   "outputs": [],
   "source": []
  }
 ],
 "metadata": {
  "kernelspec": {
   "display_name": "Python 3 (ipykernel)",
   "language": "python",
   "name": "python3"
  },
  "language_info": {
   "codemirror_mode": {
    "name": "ipython",
    "version": 3
   },
   "file_extension": ".py",
   "mimetype": "text/x-python",
   "name": "python",
   "nbconvert_exporter": "python",
   "pygments_lexer": "ipython3",
   "version": "3.11.4"
  }
 },
 "nbformat": 4,
 "nbformat_minor": 5
}
